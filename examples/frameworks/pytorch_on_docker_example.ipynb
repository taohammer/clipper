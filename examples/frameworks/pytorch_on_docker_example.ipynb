{
 "cells": [
  {
   "cell_type": "markdown",
   "metadata": {},
   "source": [
    "In case of doubts refer to the documentation on https://clipper.ai."
   ]
  },
  {
   "cell_type": "code",
   "execution_count": 2,
   "metadata": {},
   "outputs": [],
   "source": [
    "import torch\n",
    "import torch.nn as nn\n",
    "import numpy as np"
   ]
  },
  {
   "cell_type": "code",
   "execution_count": 3,
   "metadata": {},
   "outputs": [
    {
     "name": "stdout",
     "output_type": "stream",
     "text": [
      "Epoch [5/60], Loss: 20.1887\n",
      "Epoch [10/60], Loss: 8.3919\n",
      "Epoch [15/60], Loss: 3.6126\n",
      "Epoch [20/60], Loss: 1.6761\n",
      "Epoch [25/60], Loss: 0.8914\n",
      "Epoch [30/60], Loss: 0.5731\n",
      "Epoch [35/60], Loss: 0.4439\n",
      "Epoch [40/60], Loss: 0.3913\n",
      "Epoch [45/60], Loss: 0.3697\n",
      "Epoch [50/60], Loss: 0.3607\n",
      "Epoch [55/60], Loss: 0.3567\n",
      "Epoch [60/60], Loss: 0.3548\n"
     ]
    }
   ],
   "source": [
    "# Hyper-parameters\n",
    "input_size = 1\n",
    "output_size = 1\n",
    "num_epochs = 60\n",
    "learning_rate = 0.001\n",
    "\n",
    "# Toy dataset\n",
    "x_train = np.array([[3.3], [4.4], [5.5], [6.71], [6.93], [4.168], \n",
    "                    [9.779], [6.182], [7.59], [2.167], [7.042], \n",
    "                    [10.791], [5.313], [7.997], [3.1]], dtype=np.float32)\n",
    "\n",
    "y_train = np.array([[1.7], [2.76], [2.09], [3.19], [1.694], [1.573], \n",
    "                    [3.366], [2.596], [2.53], [1.221], [2.827], \n",
    "                    [3.465], [1.65], [2.904], [1.3]], dtype=np.float32)\n",
    "\n",
    "# Linear regression model\n",
    "model = nn.Linear(input_size, output_size)\n",
    "\n",
    "# Loss and optimizer\n",
    "criterion = nn.MSELoss()\n",
    "optimizer = torch.optim.SGD(model.parameters(), lr=learning_rate)  \n",
    "\n",
    "# Train the model\n",
    "for epoch in range(num_epochs):\n",
    "    # Convert numpy arrays to torch tensors\n",
    "    inputs = torch.from_numpy(x_train)\n",
    "    targets = torch.from_numpy(y_train)\n",
    "\n",
    "    # Forward pass\n",
    "    outputs = model(inputs)\n",
    "    loss = criterion(outputs, targets)\n",
    "    \n",
    "    # Backward and optimize\n",
    "    optimizer.zero_grad()\n",
    "    loss.backward()\n",
    "    optimizer.step()\n",
    "    \n",
    "    if (epoch+1) % 5 == 0:\n",
    "        print ('Epoch [{}/{}], Loss: {:.4f}'.format(\n",
    "            epoch+1, num_epochs, loss.item()))"
   ]
  },
  {
   "cell_type": "code",
   "execution_count": 4,
   "metadata": {},
   "outputs": [],
   "source": [
    "# Create a directory for the model\n",
    "%mkdir -p /tmp/pytorch"
   ]
  },
  {
   "cell_type": "code",
   "execution_count": 5,
   "metadata": {},
   "outputs": [
    {
     "name": "stdout",
     "output_type": "stream",
     "text": [
      "Model saved\n",
      "Model variable removal successful\n"
     ]
    }
   ],
   "source": [
    "# Save the model to a file and remove it, we will reload it in the next step\n",
    "torch.save(model.state_dict(), \"/tmp/pytorch/model.pt\")\n",
    "print(\"Model saved\")\n",
    "del(model)\n",
    "# Let's check if the model variable is really gone\n",
    "try: \n",
    "    model\n",
    "except NameError:\n",
    "    print(\"Model variable removal successful\")"
   ]
  },
  {
   "cell_type": "code",
   "execution_count": 6,
   "metadata": {},
   "outputs": [
    {
     "data": {
      "text/plain": [
       "Linear(in_features=1, out_features=1, bias=True)"
      ]
     },
     "execution_count": 6,
     "metadata": {},
     "output_type": "execute_result"
    }
   ],
   "source": [
    "# Load the model from the file, remember you must define the model type first \n",
    "# (for example nn.Linear)\n",
    "model = nn.Linear(input_size, output_size)\n",
    "model.load_state_dict(torch.load(\"/tmp/pytorch/model.pt\"))\n",
    "# Check model type\n",
    "model.eval()"
   ]
  },
  {
   "cell_type": "code",
   "execution_count": 7,
   "metadata": {},
   "outputs": [
    {
     "data": {
      "text/plain": [
       "['[ 0.41221234]', '[ 1.26506734]']"
      ]
     },
     "execution_count": 7,
     "metadata": {},
     "output_type": "execute_result"
    }
   ],
   "source": [
    "# Predict function needs the model variable and inputs\n",
    "def predict(model, inputs):\n",
    "    pred = torch.from_numpy(np.array(inputs, dtype=np.float32))\n",
    "    pred = model(pred)\n",
    "    pred = pred.data.numpy()\n",
    "    return [str(x) for x in pred]\n",
    "# Test on 2 values\n",
    "predict(model, [[2.0], [4.0]])"
   ]
  },
  {
   "cell_type": "code",
   "execution_count": 8,
   "metadata": {},
   "outputs": [],
   "source": [
    "from clipper_admin import ClipperConnection, DockerContainerManager\n",
    "from clipper_admin.deployers.pytorch import deploy_pytorch_model\n",
    "clipper_conn = ClipperConnection(DockerContainerManager())"
   ]
  },
  {
   "cell_type": "code",
   "execution_count": 9,
   "metadata": {},
   "outputs": [
    {
     "name": "stderr",
     "output_type": "stream",
     "text": [
      "19-05-30:16:07:11 INFO     [docker_container_manager.py:154] [default-cluster] Starting managed Redis instance in Docker\n",
      "19-05-30:16:07:14 INFO     [docker_container_manager.py:232] [default-cluster] Metric Configuration Saved at /tmp/tmpfgf70_7q.yml\n",
      "19-05-30:16:07:14 INFO     [clipper_admin.py:143] [default-cluster] Clipper is running\n"
     ]
    }
   ],
   "source": [
    "clipper_conn.start_clipper()"
   ]
  },
  {
   "cell_type": "code",
   "execution_count": 10,
   "metadata": {},
   "outputs": [
    {
     "name": "stdout",
     "output_type": "stream",
     "text": [
      "CONTAINER ID        IMAGE                                 COMMAND                  CREATED             STATUS              PORTS                                            NAMES\r\n",
      "26534b53dd6e        prom/prometheus:v2.1.0                \"/bin/prometheus --c…\"   2 seconds ago       Up 2 seconds        0.0.0.0:9090->9090/tcp                           metric_frontend-75355\r\n",
      "dcf4a6516ccf        clipper/frontend-exporter:develop     \"python /usr/src/app…\"   3 seconds ago       Up 2 seconds                                                         query_frontend_exporter-11466\r\n",
      "44e204a13566        clipper/query_frontend:develop        \"/clipper/release/sr…\"   4 seconds ago       Up 3 seconds        0.0.0.0:1337->1337/tcp, 0.0.0.0:7000->7000/tcp   query_frontend-11466\r\n",
      "a8ef297e3f8e        clipper/management_frontend:develop   \"/clipper/release/sr…\"   4 seconds ago       Up 3 seconds        0.0.0.0:1338->1338/tcp                           mgmt_frontend-29672\r\n",
      "1cd20d87314b        redis:alpine                          \"docker-entrypoint.s…\"   5 seconds ago       Up 4 seconds        0.0.0.0:6379->6379/tcp                           redis-41206\r\n"
     ]
    }
   ],
   "source": [
    "# You can see some Clipper containers by simply running:\n",
    "!docker ps"
   ]
  },
  {
   "cell_type": "code",
   "execution_count": 13,
   "metadata": {},
   "outputs": [
    {
     "name": "stderr",
     "output_type": "stream",
     "text": [
      "19-05-30:16:07:48 INFO     [clipper_admin.py:156] [default-cluster] Successfully connected to Clipper cluster at localhost:1337\n"
     ]
    }
   ],
   "source": [
    "clipper_conn.connect()"
   ]
  },
  {
   "cell_type": "code",
   "execution_count": 14,
   "metadata": {},
   "outputs": [
    {
     "data": {
      "text/plain": [
       "[]"
      ]
     },
     "execution_count": 14,
     "metadata": {},
     "output_type": "execute_result"
    }
   ],
   "source": [
    "# List all applications\n",
    "clipper_conn.get_all_apps()"
   ]
  },
  {
   "cell_type": "code",
   "execution_count": 15,
   "metadata": {},
   "outputs": [
    {
     "data": {
      "text/plain": [
       "[]"
      ]
     },
     "execution_count": 15,
     "metadata": {},
     "output_type": "execute_result"
    }
   ],
   "source": [
    "# List all models\n",
    "clipper_conn.get_all_models()"
   ]
  },
  {
   "cell_type": "code",
   "execution_count": 16,
   "metadata": {
    "scrolled": true
   },
   "outputs": [
    {
     "name": "stderr",
     "output_type": "stream",
     "text": [
      "19-05-30:16:07:56 INFO     [clipper_admin.py:220] [default-cluster] Application pytorch-app was successfully registered\n"
     ]
    }
   ],
   "source": [
    "# Add an application with a name and an input type\n",
    "clipper_conn.register_application(name=\"pytorch-app\", input_type=\"doubles\", default_output=\"-1.0\", slo_micros=100000)"
   ]
  },
  {
   "cell_type": "code",
   "execution_count": 17,
   "metadata": {},
   "outputs": [
    {
     "name": "stderr",
     "output_type": "stream",
     "text": [
      "19-05-30:16:08:03 INFO     [deployer_utils.py:41] Saving function to /tmp/tmp9tsr3fy9clipper\n",
      "19-05-30:16:08:03 INFO     [deployer_utils.py:51] Serialized and supplied predict function\n",
      "19-05-30:16:08:03 INFO     [pytorch.py:204] Torch model saved\n",
      "19-05-30:16:08:03 INFO     [pytorch.py:218] Using Python 3.6 base image\n",
      "19-05-30:16:08:03 INFO     [clipper_admin.py:513] [default-cluster] Building model Docker image with model data from /tmp/tmp9tsr3fy9clipper\n",
      "19-05-30:16:08:03 INFO     [clipper_admin.py:518] [default-cluster] Step 1/2 : FROM clipper/pytorch36-container:develop\n",
      "19-05-30:16:08:03 INFO     [clipper_admin.py:518] [default-cluster]  ---> dd1bbe55c6a3\n",
      "19-05-30:16:08:03 INFO     [clipper_admin.py:518] [default-cluster] Step 2/2 : COPY /tmp/tmp9tsr3fy9clipper /model/\n",
      "19-05-30:16:08:03 INFO     [clipper_admin.py:518] [default-cluster]  ---> 79ed504922d7\n",
      "19-05-30:16:08:03 INFO     [clipper_admin.py:518] [default-cluster] Successfully built 79ed504922d7\n",
      "19-05-30:16:08:03 INFO     [clipper_admin.py:518] [default-cluster] Successfully tagged default-cluster-pytorch-mod:1\n",
      "19-05-30:16:08:03 INFO     [clipper_admin.py:520] [default-cluster] Pushing model Docker image to default-cluster-pytorch-mod:1\n",
      "19-05-30:16:08:06 INFO     [docker_container_manager.py:356] [default-cluster] Found 0 replicas for pytorch-mod:1. Adding 1\n",
      "19-05-30:16:08:06 INFO     [clipper_admin.py:697] [default-cluster] Successfully registered model pytorch-mod:1\n",
      "19-05-30:16:08:06 INFO     [clipper_admin.py:615] [default-cluster] Done deploying model pytorch-mod:1.\n"
     ]
    }
   ],
   "source": [
    "# Deploy a model, to check what arguments you need run \n",
    "# \"?deploy_pytorch_model\" to let the notebook show you the definition of the method\n",
    "deploy_pytorch_model(\n",
    "    clipper_conn,\n",
    "    name=\"pytorch-mod\",\n",
    "    version=1,\n",
    "    input_type=\"doubles\",\n",
    "    func=predict,\n",
    "    pytorch_model=model)"
   ]
  },
  {
   "cell_type": "code",
   "execution_count": 18,
   "metadata": {},
   "outputs": [
    {
     "name": "stderr",
     "output_type": "stream",
     "text": [
      "19-05-30:16:08:11 INFO     [clipper_admin.py:282] [default-cluster] Model pytorch-mod is now linked to application pytorch-app\n"
     ]
    }
   ],
   "source": [
    "# Link the model and the app\n",
    "clipper_conn.link_model_to_app(\n",
    "    app_name=\"pytorch-app\",\n",
    "    model_name=\"pytorch-mod\")"
   ]
  },
  {
   "cell_type": "code",
   "execution_count": 19,
   "metadata": {},
   "outputs": [
    {
     "data": {
      "text/plain": [
       "['pytorch-app']"
      ]
     },
     "execution_count": 19,
     "metadata": {},
     "output_type": "execute_result"
    }
   ],
   "source": [
    "# Show the apps again, should list one\n",
    "clipper_conn.get_all_apps()"
   ]
  },
  {
   "cell_type": "code",
   "execution_count": 20,
   "metadata": {},
   "outputs": [
    {
     "name": "stdout",
     "output_type": "stream",
     "text": [
      "localhost:1337\n"
     ]
    }
   ],
   "source": [
    "# Get query address\n",
    "query_address = clipper_conn.get_query_addr()\n",
    "print(query_address)"
   ]
  },
  {
   "cell_type": "code",
   "execution_count": 21,
   "metadata": {},
   "outputs": [
    {
     "data": {
      "text/plain": [
       "{'query_id': 0, 'output': [0.41221234], 'default': False}"
      ]
     },
     "execution_count": 21,
     "metadata": {},
     "output_type": "execute_result"
    }
   ],
   "source": [
    "# Run a query\n",
    "import requests, json, numpy as np\n",
    "headers = {\"Content-type\": \"application/json\"}\n",
    "requests.post(\"http://\"+query_address+\"/pytorch-app/predict\", headers=headers, data=json.dumps({\n",
    "    \"input\": [2.0]})).json()\n",
    "# The result is the same as in the local prediction!"
   ]
  },
  {
   "cell_type": "code",
   "execution_count": 22,
   "metadata": {},
   "outputs": [
    {
     "name": "stderr",
     "output_type": "stream",
     "text": [
      "19-05-30:16:08:24 INFO     [clipper_admin.py:323] Model pytorch-mod is now removed to application pytorch-app\n"
     ]
    }
   ],
   "source": [
    "# Unlink the model and the app\n",
    "clipper_conn.unlink_model_from_app(model_name=\"pytorch-mod\", app_name=\"pytorch-app\")"
   ]
  },
  {
   "cell_type": "code",
   "execution_count": 23,
   "metadata": {},
   "outputs": [
    {
     "name": "stderr",
     "output_type": "stream",
     "text": [
      "19-05-30:16:08:35 INFO     [clipper_admin.py:1238] [default-cluster] Stopped all containers for these models and versions:\n",
      "{'pytorch-mod': ['1']}\n"
     ]
    }
   ],
   "source": [
    "# Stop the model\n",
    "clipper_conn.stop_models('pytorch-mod')"
   ]
  },
  {
   "cell_type": "code",
   "execution_count": 24,
   "metadata": {},
   "outputs": [
    {
     "name": "stderr",
     "output_type": "stream",
     "text": [
      "19-05-30:16:08:38 INFO     [clipper_admin.py:239] [default-cluster] Application pytorch-app was successfully deleted\n"
     ]
    }
   ],
   "source": [
    "# Remove the app\n",
    "clipper_conn.delete_application('pytorch-app')"
   ]
  },
  {
   "cell_type": "code",
   "execution_count": 25,
   "metadata": {},
   "outputs": [
    {
     "name": "stderr",
     "output_type": "stream",
     "text": [
      "19-05-30:16:09:13 INFO     [clipper_admin.py:1324] [default-cluster] Stopped all Clipper cluster and all model containers\n"
     ]
    }
   ],
   "source": [
    "# Stop Clipper\n",
    "clipper_conn.stop_all()"
   ]
  },
  {
   "cell_type": "code",
   "execution_count": 26,
   "metadata": {},
   "outputs": [
    {
     "name": "stdout",
     "output_type": "stream",
     "text": [
      "CONTAINER ID        IMAGE               COMMAND             CREATED             STATUS              PORTS               NAMES\r\n"
     ]
    }
   ],
   "source": [
    "# Check that all docker processes are stopped\n",
    "!docker ps"
   ]
  },
  {
   "cell_type": "code",
   "execution_count": null,
   "metadata": {},
   "outputs": [],
   "source": []
  }
 ],
 "metadata": {
  "kernelspec": {
   "display_name": "Python 3",
   "language": "python",
   "name": "python3"
  },
  "language_info": {
   "codemirror_mode": {
    "name": "ipython",
    "version": 3
   },
   "file_extension": ".py",
   "mimetype": "text/x-python",
   "name": "python",
   "nbconvert_exporter": "python",
   "pygments_lexer": "ipython3",
   "version": "3.6.8"
  }
 },
 "nbformat": 4,
 "nbformat_minor": 2
}

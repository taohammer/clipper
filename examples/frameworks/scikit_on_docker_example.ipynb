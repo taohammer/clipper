{
 "cells": [
  {
   "cell_type": "markdown",
   "metadata": {},
   "source": [
    "For a more detailed guide refer to `tensorflow` or `pytorch` example or to the documentation on https://clipper.ai.\n",
    "This example uses `matplotlib`, in case you cannot use it, please comment out respective 2 cells - 7 & 8"
   ]
  },
  {
   "cell_type": "code",
   "execution_count": 2,
   "metadata": {},
   "outputs": [],
   "source": [
    "from sklearn.linear_model import LinearRegression\n",
    "from sklearn import datasets\n",
    "from joblib import dump, load\n",
    "import numpy as np"
   ]
  },
  {
   "cell_type": "code",
   "execution_count": 3,
   "metadata": {},
   "outputs": [],
   "source": [
    "# Load a dataset\n",
    "diabetes = datasets.load_diabetes() # load data"
   ]
  },
  {
   "cell_type": "code",
   "execution_count": 4,
   "metadata": {},
   "outputs": [
    {
     "data": {
      "text/plain": [
       "(442, 10)"
      ]
     },
     "execution_count": 4,
     "metadata": {},
     "output_type": "execute_result"
    }
   ],
   "source": [
    "diabetes.data.shape # feature matrix shape"
   ]
  },
  {
   "cell_type": "code",
   "execution_count": 5,
   "metadata": {},
   "outputs": [
    {
     "data": {
      "text/plain": [
       "0.33222203269065176"
      ]
     },
     "execution_count": 5,
     "metadata": {},
     "output_type": "execute_result"
    }
   ],
   "source": [
    "# Seperate train and test data\n",
    "from sklearn.model_selection import train_test_split\n",
    "X_train, X_test, y_train, y_test = train_test_split(diabetes.data, diabetes.target, test_size=0.2, random_state=0)\n",
    "# There are three steps to model something with sklearn\n",
    "# 1. Set up the model\n",
    "model = LinearRegression()\n",
    "# 2. Use fit\n",
    "model.fit(X_train, y_train)\n",
    "# 3. Check the score\n",
    "model.score(X_test, y_test)"
   ]
  },
  {
   "cell_type": "code",
   "execution_count": 6,
   "metadata": {},
   "outputs": [
    {
     "data": {
      "text/plain": [
       "array([ 238.47145247,  248.93170646,  164.05404165,  120.30794355,\n",
       "        187.42422054,  259.04865002,  113.55556372,  188.07597044,\n",
       "        149.49663441,  236.01099949,  172.24629506,  178.88073764,\n",
       "        109.15751983,   92.13508975,  243.33042043,   87.356971  ,\n",
       "        155.72606406,   66.99073989,  100.42610442,  218.09422877,\n",
       "        196.66287912,  161.29832968,  161.70779605,  156.52520454,\n",
       "        197.88796516,  167.57984206,  120.74478913,   84.83879727,\n",
       "        192.03728687,  160.60687024,  175.17178362,   84.22833237,\n",
       "        145.7995542 ,  145.97333493,  140.96488953,  197.00421108,\n",
       "        165.94322494,  190.65906468,  128.22520508,  206.41941223,\n",
       "         84.35851196,  164.0256504 ,  144.1056776 ,  184.68355549,\n",
       "        177.80238966,   74.32855231,  143.3660286 ,  138.67726085,\n",
       "        120.81146113,  234.34252077,  161.94390244,   74.5455476 ,\n",
       "        154.71905074,  156.78884927,  237.42227096,  174.23053048,\n",
       "        190.88212635,  118.98373473,  132.20418974,  168.52674824,\n",
       "        214.74245466,  171.42364091,  157.37409906,  108.86927343,\n",
       "        257.06329636,  152.17777143,   82.43686464,  231.56746032,\n",
       "        202.90641336,   47.18340199,   78.46954525,  129.30170908,\n",
       "        104.60253144,  144.65200281,  132.27974254,  190.04134164,\n",
       "         97.55541138,  197.51891007,  219.13709291,  186.13797012,\n",
       "        149.60913007,  208.42379455,   44.59036026,  206.20925368,\n",
       "         76.77377721,   94.94046865,  145.2955051 ,  194.03776373,\n",
       "        132.78534336])"
      ]
     },
     "execution_count": 6,
     "metadata": {},
     "output_type": "execute_result"
    }
   ],
   "source": [
    "model.predict(X_test) # Predict unkown data"
   ]
  },
  {
   "cell_type": "code",
   "execution_count": 7,
   "metadata": {},
   "outputs": [
    {
     "data": {
      "image/png": "[encoded data removed]",
      "text/plain": [
       "<Figure size 432x288 with 1 Axes>"
      ]
     },
     "metadata": {
      "needs_background": "light"
     },
     "output_type": "display_data"
    }
   ],
   "source": [
    "# Using matplotlib, comment it out if you don't want to see the plots\n",
    "import matplotlib.pylab as plt\n",
    "%matplotlib inline\n",
    "# plot prediction and actual data\n",
    "y_pred = model.predict(X_test) \n",
    "plt.plot(y_test, y_pred, '.')\n",
    "\n",
    "# plot a line, a perfit predict would all fall on this line\n",
    "x = np.linspace(0, 330, 100)\n",
    "y = x\n",
    "plt.plot(x, y)\n",
    "plt.show()"
   ]
  },
  {
   "cell_type": "code",
   "execution_count": 8,
   "metadata": {},
   "outputs": [
    {
     "data": {
      "image/png": "[encoded data removed]",
      "text/plain": [
       "<Figure size 432x288 with 1 Axes>"
      ]
     },
     "metadata": {
      "needs_background": "light"
     },
     "output_type": "display_data"
    }
   ],
   "source": [
    "error = y_pred - y_test\n",
    "plt.hist(error, bins = 25)\n",
    "plt.xlabel(\"Prediction Error\")\n",
    "_ = plt.ylabel(\"Count\")"
   ]
  },
  {
   "cell_type": "code",
   "execution_count": 9,
   "metadata": {},
   "outputs": [
    {
     "name": "stdout",
     "output_type": "stream",
     "text": [
      "Model saved\n",
      "Model variable removal successful\n"
     ]
    }
   ],
   "source": [
    "from joblib import dump, load\n",
    "dump(model, 'model_scikit.joblib')\n",
    "print(\"Model saved\")\n",
    "del(model)\n",
    "# Let's check if the model variable is really gone\n",
    "try: \n",
    "    model\n",
    "except NameError:\n",
    "    print(\"Model variable removal successful\")"
   ]
  },
  {
   "cell_type": "code",
   "execution_count": 10,
   "metadata": {},
   "outputs": [],
   "source": [
    "# Load model\n",
    "model = load('model_scikit.joblib')"
   ]
  },
  {
   "cell_type": "code",
   "execution_count": 11,
   "metadata": {},
   "outputs": [],
   "source": [
    "# Data point for prediction function check\n",
    "data = [0.01991321,  0.05068012,  0.10480869,  0.07007254, -0.03596778, \n",
    "        -0.0266789 , -0.02499266, -0.00259226,  0.00371174,  0.04034337]"
   ]
  },
  {
   "cell_type": "code",
   "execution_count": 12,
   "metadata": {
    "scrolled": true
   },
   "outputs": [
    {
     "data": {
      "text/plain": [
       "array([ 238.47145272])"
      ]
     },
     "execution_count": 12,
     "metadata": {},
     "output_type": "execute_result"
    }
   ],
   "source": [
    "model.predict([data])"
   ]
  },
  {
   "cell_type": "code",
   "execution_count": 13,
   "metadata": {},
   "outputs": [],
   "source": [
    "from clipper_admin import ClipperConnection, DockerContainerManager\n",
    "from clipper_admin.deployers import python as python_deployer\n",
    "clipper_conn = ClipperConnection(DockerContainerManager())"
   ]
  },
  {
   "cell_type": "code",
   "execution_count": 14,
   "metadata": {},
   "outputs": [
    {
     "name": "stderr",
     "output_type": "stream",
     "text": [
      "19-05-31:09:46:37 INFO     [docker_container_manager.py:154] [default-cluster] Starting managed Redis instance in Docker\n",
      "19-05-31:09:46:39 INFO     [docker_container_manager.py:232] [default-cluster] Metric Configuration Saved at /tmp/tmpon_lhuc0.yml\n",
      "19-05-31:09:46:40 INFO     [clipper_admin.py:143] [default-cluster] Clipper is running\n"
     ]
    }
   ],
   "source": [
    "clipper_conn.start_clipper()"
   ]
  },
  {
   "cell_type": "code",
   "execution_count": 16,
   "metadata": {},
   "outputs": [
    {
     "name": "stderr",
     "output_type": "stream",
     "text": [
      "19-05-31:09:47:31 INFO     [clipper_admin.py:156] [default-cluster] Successfully connected to Clipper cluster at localhost:1337\n"
     ]
    },
    {
     "data": {
      "text/plain": [
       "[]"
      ]
     },
     "execution_count": 16,
     "metadata": {},
     "output_type": "execute_result"
    }
   ],
   "source": [
    "clipper_conn.connect()\n",
    "clipper_conn.get_all_apps()"
   ]
  },
  {
   "cell_type": "code",
   "execution_count": 17,
   "metadata": {},
   "outputs": [
    {
     "data": {
      "text/plain": [
       "[]"
      ]
     },
     "execution_count": 17,
     "metadata": {},
     "output_type": "execute_result"
    }
   ],
   "source": [
    "clipper_conn.get_all_models()"
   ]
  },
  {
   "cell_type": "code",
   "execution_count": 18,
   "metadata": {
    "scrolled": true
   },
   "outputs": [
    {
     "name": "stderr",
     "output_type": "stream",
     "text": [
      "19-05-31:09:47:35 INFO     [clipper_admin.py:220] [default-cluster] Application scikit-app was successfully registered\n"
     ]
    }
   ],
   "source": [
    "clipper_conn.register_application(name=\"scikit-app\", input_type=\"doubles\", default_output=\"-1.0\", slo_micros=100000)"
   ]
  },
  {
   "cell_type": "code",
   "execution_count": 19,
   "metadata": {},
   "outputs": [
    {
     "name": "stderr",
     "output_type": "stream",
     "text": [
      "19-05-31:09:47:36 INFO     [deployer_utils.py:41] Saving function to /tmp/tmp1tcxbie1clipper\n",
      "19-05-31:09:47:36 INFO     [deployer_utils.py:51] Serialized and supplied predict function\n",
      "19-05-31:09:47:36 INFO     [python.py:192] Python closure saved\n",
      "19-05-31:09:47:36 INFO     [clipper_admin.py:513] [default-cluster] Building model Docker image with model data from /tmp/tmp1tcxbie1clipper\n",
      "19-05-31:09:47:37 INFO     [clipper_admin.py:518] [default-cluster] Step 1/2 : FROM dockerfile-scikit\n",
      "19-05-31:09:47:37 INFO     [clipper_admin.py:518] [default-cluster]  ---> 54ae579f40ef\n",
      "19-05-31:09:47:37 INFO     [clipper_admin.py:518] [default-cluster] Step 2/2 : COPY /tmp/tmp1tcxbie1clipper /model/\n",
      "19-05-31:09:47:37 INFO     [clipper_admin.py:518] [default-cluster]  ---> 411276003e84\n",
      "19-05-31:09:47:37 INFO     [clipper_admin.py:518] [default-cluster] Successfully built 411276003e84\n",
      "19-05-31:09:47:37 INFO     [clipper_admin.py:518] [default-cluster] Successfully tagged default-cluster-scikit-mod:1\n",
      "19-05-31:09:47:37 INFO     [clipper_admin.py:520] [default-cluster] Pushing model Docker image to default-cluster-scikit-mod:1\n",
      "19-05-31:09:47:39 INFO     [docker_container_manager.py:356] [default-cluster] Found 0 replicas for scikit-mod:1. Adding 1\n",
      "19-05-31:09:47:40 INFO     [clipper_admin.py:697] [default-cluster] Successfully registered model scikit-mod:1\n",
      "19-05-31:09:47:40 INFO     [clipper_admin.py:615] [default-cluster] Done deploying model scikit-mod:1.\n"
     ]
    }
   ],
   "source": [
    "python_deployer.deploy_python_closure(clipper_conn, name=\"scikit-mod\", \n",
    "                                      version=1, \n",
    "                                      input_type=\"doubles\", \n",
    "                                      func=model.predict,\n",
    "                                      pkgs_to_install=['scikit-learn'])"
   ]
  },
  {
   "cell_type": "code",
   "execution_count": 20,
   "metadata": {},
   "outputs": [
    {
     "name": "stderr",
     "output_type": "stream",
     "text": [
      "19-05-31:09:47:43 INFO     [clipper_admin.py:282] [default-cluster] Model scikit-mod is now linked to application scikit-app\n"
     ]
    }
   ],
   "source": [
    "clipper_conn.link_model_to_app(\n",
    "    app_name=\"scikit-app\",\n",
    "    model_name=\"scikit-mod\")"
   ]
  },
  {
   "cell_type": "code",
   "execution_count": 21,
   "metadata": {},
   "outputs": [
    {
     "data": {
      "text/plain": [
       "['scikit-app']"
      ]
     },
     "execution_count": 21,
     "metadata": {},
     "output_type": "execute_result"
    }
   ],
   "source": [
    "clipper_conn.get_all_apps()"
   ]
  },
  {
   "cell_type": "code",
   "execution_count": 22,
   "metadata": {},
   "outputs": [
    {
     "data": {
      "text/plain": [
       "{'query_id': 0, 'output': 238.47145271668833, 'default': False}"
      ]
     },
     "execution_count": 22,
     "metadata": {},
     "output_type": "execute_result"
    }
   ],
   "source": [
    "import requests, json, numpy as np\n",
    "headers = {\"Content-type\": \"application/json\"}\n",
    "requests.post(\"http://localhost:1337/scikit-app/predict\", headers=headers, \n",
    "              data=json.dumps({\"input\": data})).json()\n",
    "# The result is as in the local predict function call"
   ]
  },
  {
   "cell_type": "code",
   "execution_count": 23,
   "metadata": {},
   "outputs": [
    {
     "name": "stderr",
     "output_type": "stream",
     "text": [
      "19-05-31:09:48:19 INFO     [clipper_admin.py:323] Model scikit-mod is now removed to application scikit-app\n"
     ]
    }
   ],
   "source": [
    "clipper_conn.unlink_model_from_app(model_name=\"scikit-mod\", app_name=\"scikit-app\")"
   ]
  },
  {
   "cell_type": "code",
   "execution_count": 24,
   "metadata": {},
   "outputs": [
    {
     "name": "stderr",
     "output_type": "stream",
     "text": [
      "19-05-31:09:48:36 INFO     [clipper_admin.py:1238] [default-cluster] Stopped all containers for these models and versions:\n",
      "{'scikit-mod': ['1']}\n"
     ]
    }
   ],
   "source": [
    "clipper_conn.stop_models('scikit-mod')"
   ]
  },
  {
   "cell_type": "code",
   "execution_count": 25,
   "metadata": {},
   "outputs": [
    {
     "name": "stderr",
     "output_type": "stream",
     "text": [
      "19-05-31:09:48:36 INFO     [clipper_admin.py:239] [default-cluster] Application scikit-app was successfully deleted\n"
     ]
    }
   ],
   "source": [
    "clipper_conn.delete_application('scikit-app')"
   ]
  },
  {
   "cell_type": "code",
   "execution_count": 26,
   "metadata": {},
   "outputs": [
    {
     "name": "stderr",
     "output_type": "stream",
     "text": [
      "19-05-31:09:49:07 INFO     [clipper_admin.py:1324] [default-cluster] Stopped all Clipper cluster and all model containers\n"
     ]
    }
   ],
   "source": [
    "clipper_conn.stop_all()"
   ]
  },
  {
   "cell_type": "code",
   "execution_count": null,
   "metadata": {},
   "outputs": [],
   "source": []
  }
 ],
 "metadata": {
  "kernelspec": {
   "display_name": "Python 3",
   "language": "python",
   "name": "python3"
  },
  "language_info": {
   "codemirror_mode": {
    "name": "ipython",
    "version": 3
   },
   "file_extension": ".py",
   "mimetype": "text/x-python",
   "name": "python",
   "nbconvert_exporter": "python",
   "pygments_lexer": "ipython3",
   "version": "3.6.8"
  }
 },
 "nbformat": 4,
 "nbformat_minor": 2
}

{
 "cells": [
  {
   "cell_type": "markdown",
   "metadata": {},
   "source": [
    "In case of doubts refer to the documentation on https://clipper.ai.\n",
    "This example uses `matplotlib`, in case you cannot use it, please comment out a part of cell 3"
   ]
  },
  {
   "cell_type": "code",
   "execution_count": 2,
   "metadata": {},
   "outputs": [],
   "source": [
    "import tensorflow as tf\n",
    "import numpy\n",
    "import matplotlib.pyplot as plt\n",
    "rng = numpy.random"
   ]
  },
  {
   "cell_type": "code",
   "execution_count": 3,
   "metadata": {},
   "outputs": [
    {
     "name": "stdout",
     "output_type": "stream",
     "text": [
      "WARNING:tensorflow:From /home/cloud-user/.pyenv/versions/3.6.8/lib/python3.6/site-packages/tensorflow/python/framework/op_def_library.py:263: colocate_with (from tensorflow.python.framework.ops) is deprecated and will be removed in a future version.\n",
      "Instructions for updating:\n",
      "Colocations handled automatically by placer.\n",
      "WARNING:tensorflow:From /home/cloud-user/.pyenv/versions/3.6.8/lib/python3.6/site-packages/tensorflow/python/ops/math_ops.py:3066: to_int32 (from tensorflow.python.ops.math_ops) is deprecated and will be removed in a future version.\n",
      "Instructions for updating:\n",
      "Use tf.cast instead.\n",
      "Epoch: 0050 cost= 0.106509171 W= 0.345775 b= 0.109547\n",
      "Epoch: 0100 cost= 0.103094369 W= 0.340054 b= 0.150698\n",
      "Epoch: 0150 cost= 0.100074120 W= 0.334674 b= 0.189403\n",
      "Epoch: 0200 cost= 0.097402938 W= 0.329614 b= 0.225805\n",
      "Epoch: 0250 cost= 0.095040426 W= 0.324855 b= 0.260043\n",
      "Epoch: 0300 cost= 0.092950977 W= 0.320379 b= 0.292244\n",
      "Epoch: 0350 cost= 0.091103069 W= 0.316169 b= 0.32253\n",
      "Epoch: 0400 cost= 0.089468762 W= 0.312209 b= 0.351014\n",
      "Epoch: 0450 cost= 0.088023409 W= 0.308485 b= 0.377805\n",
      "Epoch: 0500 cost= 0.086745158 W= 0.304982 b= 0.403003\n",
      "Optimization Finished!\n",
      "Training cost= 0.0867452 W= 0.304982 b= 0.403003 \n",
      "\n",
      "Model saved in path: /tmp/tf/model.ckpt\n"
     ]
    },
    {
     "data": {
      "image/png": "[encoded data removed]",
      "text/plain": [
       "<Figure size 432x288 with 1 Axes>"
      ]
     },
     "metadata": {
      "needs_background": "light"
     },
     "output_type": "display_data"
    }
   ],
   "source": [
    "# Parameters\n",
    "learning_rate = 0.01\n",
    "training_epochs = 500\n",
    "display_step = 50\n",
    "# Training Data\n",
    "train_X = numpy.asarray([3.3,4.4,5.5,6.71,6.93,4.168,9.779,6.182,7.59,2.167,\n",
    "                         7.042,10.791,5.313,7.997,5.654,9.27,3.1])\n",
    "train_Y = numpy.asarray([1.7,2.76,2.09,3.19,1.694,1.573,3.366,2.596,2.53,1.221,\n",
    "                         2.827,3.465,1.65,2.904,2.42,2.94,1.3])\n",
    "n_samples = train_X.shape[0]\n",
    "# tf Graph Input\n",
    "# You must name the variables and placeholders, as the names will be later used!!!\n",
    "X = tf.placeholder(\"float\", name='X')\n",
    "Y = tf.placeholder(\"float\")\n",
    "\n",
    "# Set model weights\n",
    "W = tf.Variable(rng.randn(), name=\"weight\")\n",
    "b = tf.Variable(rng.randn(), name=\"bias\")\n",
    "# Construct a linear model\n",
    "pred = tf.add(tf.multiply(X, W), b, name='pred')\n",
    "# Mean squared error\n",
    "cost = tf.reduce_sum(tf.pow(pred-Y, 2))/(2*n_samples)\n",
    "# Gradient descent\n",
    "optimizer = tf.train.GradientDescentOptimizer(learning_rate).minimize(cost)\n",
    "# Initialize the variables (i.e. assign their default value)\n",
    "init = tf.global_variables_initializer()\n",
    "saver = tf.train.Saver()\n",
    "# Start training\n",
    "# sess = tf.Session()\n",
    "with tf.Session() as sess:\n",
    "    sess.run(init)\n",
    "\n",
    "    # Fit all training data\n",
    "    for epoch in range(training_epochs):\n",
    "        for (x, y) in zip(train_X, train_Y):\n",
    "            sess.run(optimizer, feed_dict={X: x, Y: y})\n",
    "\n",
    "        #Display logs per epoch step\n",
    "        if (epoch+1) % display_step == 0:\n",
    "            c = sess.run(cost, feed_dict={X: train_X, Y:train_Y})\n",
    "            print(\"Epoch:\", '%04d' % (epoch+1), \"cost=\", \"{:.9f}\".format(c), \\\n",
    "                \"W=\", sess.run(W), \"b=\", sess.run(b))\n",
    "\n",
    "    print(\"Optimization Finished!\")\n",
    "    training_cost = sess.run(cost, feed_dict={X: train_X, Y: train_Y})\n",
    "    print(\"Training cost=\", training_cost, \"W=\", sess.run(W), \"b=\", sess.run(b), '\\n')\n",
    "\n",
    "    # Save the variables to disk.\n",
    "    save_path = saver.save(sess, \"/tmp/tf/model.ckpt\")\n",
    "    print(\"Model saved in path: %s\" % save_path)\n",
    "    \n",
    "    #Graphic display - matplotlib\n",
    "    plt.plot(train_X, train_Y, 'ro', label='Original data')\n",
    "    plt.plot(train_X, sess.run(W) * train_X + sess.run(b), label='Fitted line')\n",
    "    plt.legend()\n",
    "    plt.show()\n"
   ]
  },
  {
   "cell_type": "code",
   "execution_count": 4,
   "metadata": {
    "scrolled": true
   },
   "outputs": [
    {
     "name": "stdout",
     "output_type": "stream",
     "text": [
      "tensor_name:  bias\n",
      "0.403003\n",
      "tensor_name:  weight\n",
      "0.304982\n"
     ]
    }
   ],
   "source": [
    "# import the inspect_checkpoint library\n",
    "from tensorflow.python.tools import inspect_checkpoint as chkp\n",
    "\n",
    "# print all tensors in checkpoint file\n",
    "chkp.print_tensors_in_checkpoint_file(\"/tmp/tf/model.ckpt\", tensor_name='', all_tensors=True)"
   ]
  },
  {
   "cell_type": "code",
   "execution_count": 5,
   "metadata": {},
   "outputs": [],
   "source": [
    "def predict(sess, inputs):\n",
    "    preds = sess.run('pred:0', feed_dict={'X:0': inputs}) \n",
    "    # `X` is used, it must be defined in the model with that name explicitly!\n",
    "    return [str(p) for p in preds]"
   ]
  },
  {
   "cell_type": "code",
   "execution_count": 6,
   "metadata": {},
   "outputs": [],
   "source": [
    "from clipper_admin import ClipperConnection, DockerContainerManager\n",
    "from clipper_admin.deployers.tensorflow import deploy_tensorflow_model\n",
    "clipper_conn = ClipperConnection(DockerContainerManager())"
   ]
  },
  {
   "cell_type": "code",
   "execution_count": 7,
   "metadata": {},
   "outputs": [
    {
     "name": "stderr",
     "output_type": "stream",
     "text": [
      "19-05-31:11:15:33 INFO     [docker_container_manager.py:154] [default-cluster] Starting managed Redis instance in Docker\n",
      "19-05-31:11:15:35 INFO     [docker_container_manager.py:232] [default-cluster] Metric Configuration Saved at /tmp/tmp0blkglx5.yml\n",
      "19-05-31:11:15:36 INFO     [clipper_admin.py:143] [default-cluster] Clipper is running\n"
     ]
    }
   ],
   "source": [
    "clipper_conn.start_clipper()"
   ]
  },
  {
   "cell_type": "code",
   "execution_count": 8,
   "metadata": {},
   "outputs": [
    {
     "name": "stdout",
     "output_type": "stream",
     "text": [
      "CONTAINER ID        IMAGE                                 COMMAND                  CREATED              STATUS              PORTS                                            NAMES\r\n",
      "a1bb2cc426e5        prom/prometheus:v2.1.0                \"/bin/prometheus --c…\"   About a minute ago   Up About a minute   0.0.0.0:9090->9090/tcp                           metric_frontend-56759\r\n",
      "9cffb7817bdd        clipper/frontend-exporter:develop     \"python /usr/src/app…\"   About a minute ago   Up About a minute                                                    query_frontend_exporter-68127\r\n",
      "18ddfb869d72        clipper/query_frontend:develop        \"/clipper/release/sr…\"   About a minute ago   Up About a minute   0.0.0.0:1337->1337/tcp, 0.0.0.0:7000->7000/tcp   query_frontend-68127\r\n",
      "cb42ba84d0d8        clipper/management_frontend:develop   \"/clipper/release/sr…\"   About a minute ago   Up About a minute   0.0.0.0:1338->1338/tcp                           mgmt_frontend-30499\r\n",
      "4cac7d187b83        redis:alpine                          \"docker-entrypoint.s…\"   About a minute ago   Up About a minute   0.0.0.0:6379->6379/tcp                           redis-71028\r\n"
     ]
    }
   ],
   "source": [
    "# You can see some Clipper containers by simply running:\n",
    "!docker ps"
   ]
  },
  {
   "cell_type": "code",
   "execution_count": 9,
   "metadata": {},
   "outputs": [
    {
     "name": "stderr",
     "output_type": "stream",
     "text": [
      "19-05-31:11:16:48 INFO     [clipper_admin.py:156] [default-cluster] Successfully connected to Clipper cluster at localhost:1337\n"
     ]
    }
   ],
   "source": [
    "clipper_conn.connect()"
   ]
  },
  {
   "cell_type": "code",
   "execution_count": 10,
   "metadata": {},
   "outputs": [
    {
     "data": {
      "text/plain": [
       "[]"
      ]
     },
     "execution_count": 10,
     "metadata": {},
     "output_type": "execute_result"
    }
   ],
   "source": [
    "# List all applications\n",
    "clipper_conn.get_all_apps()"
   ]
  },
  {
   "cell_type": "code",
   "execution_count": 11,
   "metadata": {},
   "outputs": [
    {
     "data": {
      "text/plain": [
       "[]"
      ]
     },
     "execution_count": 11,
     "metadata": {},
     "output_type": "execute_result"
    }
   ],
   "source": [
    "# List all models\n",
    "clipper_conn.get_all_models()"
   ]
  },
  {
   "cell_type": "code",
   "execution_count": 12,
   "metadata": {
    "scrolled": true
   },
   "outputs": [
    {
     "name": "stderr",
     "output_type": "stream",
     "text": [
      "19-05-31:11:16:51 INFO     [clipper_admin.py:220] [default-cluster] Application tf-app was successfully registered\n"
     ]
    }
   ],
   "source": [
    "# Add an application with a name and an input type\n",
    "clipper_conn.register_application(\n",
    "    name=\"tf-app\", input_type=\"doubles\", default_output=\"-1.0\", slo_micros=100000)"
   ]
  },
  {
   "cell_type": "code",
   "execution_count": 13,
   "metadata": {
    "scrolled": true
   },
   "outputs": [
    {
     "name": "stderr",
     "output_type": "stream",
     "text": [
      "19-05-31:11:16:51 INFO     [deployer_utils.py:41] Saving function to /tmp/tmpo6h5yptpclipper\n",
      "19-05-31:11:16:51 INFO     [deployer_utils.py:51] Serialized and supplied predict function\n",
      "19-05-31:11:16:51 INFO     [tensorflow.py:264] TensorFlow model copied to: tfmodel \n",
      "19-05-31:11:16:51 INFO     [tensorflow.py:277] Using Python 3.6 base image\n",
      "19-05-31:11:16:51 INFO     [clipper_admin.py:513] [default-cluster] Building model Docker image with model data from /tmp/tmpo6h5yptpclipper\n",
      "19-05-31:11:16:51 INFO     [clipper_admin.py:518] [default-cluster] Step 1/2 : FROM clipper/tf36-container:develop\n",
      "19-05-31:11:16:51 INFO     [clipper_admin.py:518] [default-cluster]  ---> a3706e37473b\n",
      "19-05-31:11:16:51 INFO     [clipper_admin.py:518] [default-cluster] Step 2/2 : COPY /tmp/tmpo6h5yptpclipper /model/\n",
      "19-05-31:11:16:51 INFO     [clipper_admin.py:518] [default-cluster]  ---> 8374c6028ad1\n",
      "19-05-31:11:16:51 INFO     [clipper_admin.py:518] [default-cluster] Successfully built 8374c6028ad1\n",
      "19-05-31:11:16:51 INFO     [clipper_admin.py:518] [default-cluster] Successfully tagged default-cluster-tf-mod:1\n",
      "19-05-31:11:16:51 INFO     [clipper_admin.py:520] [default-cluster] Pushing model Docker image to default-cluster-tf-mod:1\n",
      "19-05-31:11:16:53 INFO     [docker_container_manager.py:356] [default-cluster] Found 0 replicas for tf-mod:1. Adding 1\n",
      "19-05-31:11:16:54 INFO     [clipper_admin.py:697] [default-cluster] Successfully registered model tf-mod:1\n",
      "19-05-31:11:16:54 INFO     [clipper_admin.py:615] [default-cluster] Done deploying model tf-mod:1.\n"
     ]
    }
   ],
   "source": [
    "# Deploy a model, to check what arguments you need run \n",
    "# \"?deploy_tensorflow_model\" to let the notebook show you the definition of the method\n",
    "deploy_tensorflow_model(\n",
    "    clipper_conn,\n",
    "    name=\"tf-mod\",\n",
    "    version=1,\n",
    "    input_type=\"doubles\",\n",
    "    func=predict,\n",
    "    tf_sess_or_saved_model_path=\"/tmp/tf/\") # path to saved model files is used,\n",
    "# session example in the next section"
   ]
  },
  {
   "cell_type": "code",
   "execution_count": 14,
   "metadata": {},
   "outputs": [
    {
     "name": "stderr",
     "output_type": "stream",
     "text": [
      "19-05-31:11:16:58 INFO     [clipper_admin.py:282] [default-cluster] Model tf-mod is now linked to application tf-app\n"
     ]
    }
   ],
   "source": [
    "# Link the model and the app\n",
    "clipper_conn.link_model_to_app(\n",
    "    app_name=\"tf-app\",\n",
    "    model_name=\"tf-mod\")"
   ]
  },
  {
   "cell_type": "code",
   "execution_count": 15,
   "metadata": {},
   "outputs": [
    {
     "data": {
      "text/plain": [
       "['tf-app']"
      ]
     },
     "execution_count": 15,
     "metadata": {},
     "output_type": "execute_result"
    }
   ],
   "source": [
    "# Show the apps again, should list one\n",
    "clipper_conn.get_all_apps()"
   ]
  },
  {
   "cell_type": "code",
   "execution_count": 16,
   "metadata": {},
   "outputs": [],
   "source": [
    "# Get query address\n",
    "query_address = clipper_conn.get_query_addr()"
   ]
  },
  {
   "cell_type": "code",
   "execution_count": 17,
   "metadata": {},
   "outputs": [
    {
     "data": {
      "text/plain": [
       "{'query_id': 0, 'output': '[0.6469889 1.3789468]', 'default': False}"
      ]
     },
     "execution_count": 17,
     "metadata": {},
     "output_type": "execute_result"
    }
   ],
   "source": [
    "# Run a query\n",
    "import requests, json, numpy as np\n",
    "headers = {\"Content-type\": \"application/json\"}\n",
    "requests.post(\"http://\"+query_address+\"/tf-app/predict\", headers=headers, data=json.dumps({\n",
    "    \"input\": [.8, 3.2]})).json()"
   ]
  },
  {
   "cell_type": "code",
   "execution_count": 18,
   "metadata": {},
   "outputs": [
    {
     "name": "stdout",
     "output_type": "stream",
     "text": [
      "WARNING:tensorflow:From /home/cloud-user/.pyenv/versions/3.6.8/lib/python3.6/site-packages/tensorflow/python/training/saver.py:1266: checkpoint_exists (from tensorflow.python.training.checkpoint_management) is deprecated and will be removed in a future version.\n",
      "Instructions for updating:\n",
      "Use standard file APIs to check for files with this prefix.\n"
     ]
    },
    {
     "name": "stderr",
     "output_type": "stream",
     "text": [
      "19-05-31:11:17:12 WARNING  [deprecation.py:323] From /home/cloud-user/.pyenv/versions/3.6.8/lib/python3.6/site-packages/tensorflow/python/training/saver.py:1266: checkpoint_exists (from tensorflow.python.training.checkpoint_management) is deprecated and will be removed in a future version.\n",
      "Instructions for updating:\n",
      "Use standard file APIs to check for files with this prefix.\n"
     ]
    },
    {
     "name": "stdout",
     "output_type": "stream",
     "text": [
      "INFO:tensorflow:Restoring parameters from /tmp/tf/model.ckpt\n"
     ]
    },
    {
     "name": "stderr",
     "output_type": "stream",
     "text": [
      "19-05-31:11:17:12 INFO     [saver.py:1270] Restoring parameters from /tmp/tf/model.ckpt\n"
     ]
    },
    {
     "name": "stdout",
     "output_type": "stream",
     "text": [
      "Model restored.\n",
      "W : 0.304982\n",
      "b : 0.403003\n"
     ]
    }
   ],
   "source": [
    "# Clipper allows to deploy a TensorFlow model using a session variable too\n",
    "# First the model must be restored from the files\n",
    "# Pay attention to the fact that variables/placeholders are restored \n",
    "# with exactly the same names\n",
    "tf.reset_default_graph()\n",
    "\n",
    "W = tf.get_variable(\"weight\", shape=[])\n",
    "b = tf.get_variable(\"bias\", shape=[])\n",
    "\n",
    "X = tf.placeholder(\"float\", name='X')\n",
    "pred = tf.add(tf.multiply(X, W), b, name='pred')\n",
    "\n",
    "saver = tf.train.Saver()\n",
    "sess = tf.Session()\n",
    "\n",
    "# Restore variables from disk.\n",
    "saver.restore(sess, \"/tmp/tf/model.ckpt\")\n",
    "print(\"Model restored.\")\n",
    "print(\"W : %s\" % W.eval(session=sess))\n",
    "print(\"b : %s\" % b.eval(session=sess))"
   ]
  },
  {
   "cell_type": "code",
   "execution_count": 19,
   "metadata": {},
   "outputs": [
    {
     "data": {
      "text/plain": [
       "<tensorflow.python.client.session.Session at 0x7f325990d898>"
      ]
     },
     "execution_count": 19,
     "metadata": {},
     "output_type": "execute_result"
    }
   ],
   "source": [
    "# Check that the session variable exists\n",
    "sess"
   ]
  },
  {
   "cell_type": "code",
   "execution_count": 20,
   "metadata": {},
   "outputs": [
    {
     "name": "stderr",
     "output_type": "stream",
     "text": [
      "19-05-31:11:17:28 INFO     [deployer_utils.py:41] Saving function to /tmp/tmpkv4jlb9fclipper\n",
      "19-05-31:11:17:28 INFO     [deployer_utils.py:51] Serialized and supplied predict function\n",
      "19-05-31:11:17:28 INFO     [tensorflow.py:196] TensorFlow model saved at: /tmp/tmpkv4jlb9fclipper/tfmodel/model.ckpt \n",
      "19-05-31:11:17:28 INFO     [tensorflow.py:277] Using Python 3.6 base image\n",
      "19-05-31:11:17:28 INFO     [clipper_admin.py:513] [default-cluster] Building model Docker image with model data from /tmp/tmpkv4jlb9fclipper\n",
      "19-05-31:11:17:29 INFO     [clipper_admin.py:518] [default-cluster] Step 1/2 : FROM clipper/tf36-container:develop\n",
      "19-05-31:11:17:29 INFO     [clipper_admin.py:518] [default-cluster]  ---> a3706e37473b\n",
      "19-05-31:11:17:29 INFO     [clipper_admin.py:518] [default-cluster] Step 2/2 : COPY /tmp/tmpkv4jlb9fclipper /model/\n",
      "19-05-31:11:17:29 INFO     [clipper_admin.py:518] [default-cluster]  ---> 06fe46f068a4\n",
      "19-05-31:11:17:29 INFO     [clipper_admin.py:518] [default-cluster] Successfully built 06fe46f068a4\n",
      "19-05-31:11:17:29 INFO     [clipper_admin.py:518] [default-cluster] Successfully tagged default-cluster-tf-mod:2\n",
      "19-05-31:11:17:29 INFO     [clipper_admin.py:520] [default-cluster] Pushing model Docker image to default-cluster-tf-mod:2\n",
      "19-05-31:11:17:31 INFO     [docker_container_manager.py:356] [default-cluster] Found 0 replicas for tf-mod:2. Adding 1\n",
      "19-05-31:11:17:32 INFO     [clipper_admin.py:697] [default-cluster] Successfully registered model tf-mod:2\n",
      "19-05-31:11:17:32 INFO     [clipper_admin.py:615] [default-cluster] Done deploying model tf-mod:2.\n"
     ]
    }
   ],
   "source": [
    "deploy_tensorflow_model(\n",
    "    clipper_conn,\n",
    "    name=\"tf-mod\",\n",
    "    version=2, # version 2 of the same model, `predict` endpoint will be updated \n",
    "    # automatically to the newest model version\n",
    "    input_type=\"doubles\",\n",
    "    func=predict,\n",
    "    tf_sess_or_saved_model_path=sess) # `sess` variable is used here"
   ]
  },
  {
   "cell_type": "code",
   "execution_count": 21,
   "metadata": {},
   "outputs": [],
   "source": [
    "# Session can be closed now\n",
    "sess.close()"
   ]
  },
  {
   "cell_type": "code",
   "execution_count": 22,
   "metadata": {},
   "outputs": [
    {
     "data": {
      "text/plain": [
       "{'query_id': 1, 'output': '[0.6469889 1.3789468]', 'default': False}"
      ]
     },
     "execution_count": 22,
     "metadata": {},
     "output_type": "execute_result"
    }
   ],
   "source": [
    "# Run a query\n",
    "headers = {\"Content-type\": \"application/json\"}\n",
    "requests.post(\"http://\"+query_address+\"/tf-app/predict\", headers=headers, data=json.dumps({\n",
    "    \"input\": [.8, 3.2]})).json()\n",
    "# The result is the same"
   ]
  },
  {
   "cell_type": "code",
   "execution_count": 23,
   "metadata": {},
   "outputs": [],
   "source": [
    "# You can revert to the previous model version, the query endpoint remains the same\n",
    "clipper_conn.set_model_version(\"tf-mod\", \"1\")"
   ]
  },
  {
   "cell_type": "code",
   "execution_count": 24,
   "metadata": {},
   "outputs": [
    {
     "name": "stderr",
     "output_type": "stream",
     "text": [
      "19-05-31:11:17:50 INFO     [docker_container_manager.py:356] [default-cluster] Found 1 replicas for tf-mod:1. Adding 4\n"
     ]
    }
   ],
   "source": [
    "# Replicate the model 5 times\n",
    "clipper_conn.set_num_replicas(\"tf-mod\", 5)"
   ]
  },
  {
   "cell_type": "code",
   "execution_count": 25,
   "metadata": {},
   "outputs": [
    {
     "name": "stderr",
     "output_type": "stream",
     "text": [
      "19-05-31:11:17:58 INFO     [docker_container_manager.py:382] [default-cluster] Found 5 replicas for tf-mod:1. Removing 4\n"
     ]
    }
   ],
   "source": [
    "# Back to one replica\n",
    "clipper_conn.set_num_replicas(\"tf-mod\", 1)"
   ]
  },
  {
   "cell_type": "code",
   "execution_count": 26,
   "metadata": {},
   "outputs": [
    {
     "name": "stderr",
     "output_type": "stream",
     "text": [
      "19-05-31:11:18:39 INFO     [clipper_admin.py:220] [default-cluster] Application tf-app-extra was successfully registered\n",
      "19-05-31:11:18:39 INFO     [clipper_admin.py:282] [default-cluster] Model tf-mod is now linked to application tf-app-extra\n"
     ]
    }
   ],
   "source": [
    "# You can also register more applications - connections to the model and link them to it\n",
    "clipper_conn.register_application(\n",
    "    name=\"tf-app-extra\", input_type=\"doubles\", default_output=\"-1.0\", slo_micros=100000)\n",
    "# You have to link them the standard way. You can also link an existing application \n",
    "# to another model if you wish using the same method\n",
    "clipper_conn.link_model_to_app(\n",
    "    app_name=\"tf-app-extra\",\n",
    "    model_name=\"tf-mod\")"
   ]
  },
  {
   "cell_type": "code",
   "execution_count": 27,
   "metadata": {},
   "outputs": [
    {
     "data": {
      "text/plain": [
       "{'query_id': 2, 'output': '[0.6469889 1.3789468]', 'default': False}"
      ]
     },
     "execution_count": 27,
     "metadata": {},
     "output_type": "execute_result"
    }
   ],
   "source": [
    "# Run a query with an endpoint `tf-app-extra/predict`\n",
    "headers = {\"Content-type\": \"application/json\"}\n",
    "requests.post(\"http://\"+query_address+\"/tf-app-extra/predict\", headers=headers, data=json.dumps({\n",
    "    \"input\": [.8, 3.2]})).json()"
   ]
  },
  {
   "cell_type": "code",
   "execution_count": 28,
   "metadata": {},
   "outputs": [
    {
     "name": "stderr",
     "output_type": "stream",
     "text": [
      "19-05-31:11:19:24 INFO     [clipper_admin.py:323] Model tf-mod is now removed to application tf-app\n",
      "19-05-31:11:19:24 INFO     [clipper_admin.py:323] Model tf-mod is now removed to application tf-app-extra\n"
     ]
    }
   ],
   "source": [
    "# Unlink the model and the apps\n",
    "clipper_conn.unlink_model_from_app(model_name=\"tf-mod\", app_name=\"tf-app\")\n",
    "clipper_conn.unlink_model_from_app(model_name=\"tf-mod\", app_name=\"tf-app-extra\")"
   ]
  },
  {
   "cell_type": "code",
   "execution_count": 29,
   "metadata": {},
   "outputs": [
    {
     "name": "stderr",
     "output_type": "stream",
     "text": [
      "19-05-31:11:19:47 INFO     [clipper_admin.py:1238] [default-cluster] Stopped all containers for these models and versions:\n",
      "{'tf-mod': ['1', '2']}\n"
     ]
    }
   ],
   "source": [
    "# Stop the model\n",
    "clipper_conn.stop_models('tf-mod')"
   ]
  },
  {
   "cell_type": "code",
   "execution_count": 30,
   "metadata": {},
   "outputs": [
    {
     "name": "stderr",
     "output_type": "stream",
     "text": [
      "19-05-31:11:19:47 INFO     [clipper_admin.py:239] [default-cluster] Application tf-app was successfully deleted\n",
      "19-05-31:11:19:47 INFO     [clipper_admin.py:239] [default-cluster] Application tf-app-extra was successfully deleted\n"
     ]
    }
   ],
   "source": [
    "# Remove the apps\n",
    "clipper_conn.delete_application('tf-app')\n",
    "clipper_conn.delete_application('tf-app-extra')"
   ]
  },
  {
   "cell_type": "code",
   "execution_count": 31,
   "metadata": {},
   "outputs": [
    {
     "name": "stderr",
     "output_type": "stream",
     "text": [
      "19-05-31:11:20:18 INFO     [clipper_admin.py:1324] [default-cluster] Stopped all Clipper cluster and all model containers\n"
     ]
    }
   ],
   "source": [
    "# Stop Clipper\n",
    "clipper_conn.stop_all()"
   ]
  },
  {
   "cell_type": "code",
   "execution_count": 32,
   "metadata": {},
   "outputs": [
    {
     "name": "stdout",
     "output_type": "stream",
     "text": [
      "CONTAINER ID        IMAGE               COMMAND             CREATED             STATUS              PORTS               NAMES\r\n"
     ]
    }
   ],
   "source": [
    "# Check that all docker processes are stopped\n",
    "!docker ps"
   ]
  },
  {
   "cell_type": "code",
   "execution_count": null,
   "metadata": {},
   "outputs": [],
   "source": []
  }
 ],
 "metadata": {
  "kernelspec": {
   "display_name": "Python 3",
   "language": "python",
   "name": "python3"
  },
  "language_info": {
   "codemirror_mode": {
    "name": "ipython",
    "version": 3
   },
   "file_extension": ".py",
   "mimetype": "text/x-python",
   "name": "python",
   "nbconvert_exporter": "python",
   "pygments_lexer": "ipython3",
   "version": "3.6.8"
  }
 },
 "nbformat": 4,
 "nbformat_minor": 2
}

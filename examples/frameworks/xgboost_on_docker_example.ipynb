{
 "cells": [
  {
   "cell_type": "markdown",
   "metadata": {},
   "source": [
    "For a more detailed guide refer to `tensorflow` or `pytorch` example or to the documentation on https://clipper.ai."
   ]
  },
  {
   "cell_type": "code",
   "execution_count": 2,
   "metadata": {},
   "outputs": [],
   "source": [
    "import logging, xgboost as xgb, numpy as np\n",
    "from clipper_admin.deployers import python as python_deployer\n",
    "from clipper_admin import ClipperConnection, DockerContainerManager"
   ]
  },
  {
   "cell_type": "code",
   "execution_count": 3,
   "metadata": {},
   "outputs": [
    {
     "name": "stderr",
     "output_type": "stream",
     "text": [
      "19-05-30:17:03:47 INFO     [docker_container_manager.py:154] [default-cluster] Starting managed Redis instance in Docker\n",
      "19-05-30:17:03:49 INFO     [docker_container_manager.py:232] [default-cluster] Metric Configuration Saved at /tmp/tmp_nccqeaw.yml\n",
      "19-05-30:17:03:50 INFO     [clipper_admin.py:143] [default-cluster] Clipper is running\n",
      "19-05-30:17:03:50 INFO     [clipper_admin.py:156] [default-cluster] Successfully connected to Clipper cluster at localhost:1337\n"
     ]
    }
   ],
   "source": [
    "clipper_conn = ClipperConnection(DockerContainerManager())\n",
    "clipper_conn.start_clipper()\n",
    "clipper_conn.connect()"
   ]
  },
  {
   "cell_type": "code",
   "execution_count": 4,
   "metadata": {},
   "outputs": [],
   "source": [
    "def get_test_point():\n",
    "    return [np.random.randint(255) for _ in range(784)]"
   ]
  },
  {
   "cell_type": "code",
   "execution_count": 5,
   "metadata": {},
   "outputs": [
    {
     "name": "stdout",
     "output_type": "stream",
     "text": [
      "[0]\ttrain-error:0\n",
      "[1]\ttrain-error:0\n"
     ]
    }
   ],
   "source": [
    "# Create a training matrix.\n",
    "dtrain = xgb.DMatrix(get_test_point(), label=[0])\n",
    "# Create parameters, watchlist, and specify the number of rounds\n",
    "param = {'max_depth': 2, 'eta': 1, 'silent': 1, 'objective': 'binary:logistic'}\n",
    "watchlist = [(dtrain, 'train')]\n",
    "num_round = 2\n",
    "bst = xgb.train(param, dtrain, num_round, watchlist)"
   ]
  },
  {
   "cell_type": "code",
   "execution_count": 6,
   "metadata": {},
   "outputs": [],
   "source": [
    "def predict(xs):\n",
    "    return bst.predict(xgb.DMatrix(xs))"
   ]
  },
  {
   "cell_type": "code",
   "execution_count": 8,
   "metadata": {},
   "outputs": [
    {
     "name": "stderr",
     "output_type": "stream",
     "text": [
      "19-05-30:17:04:11 INFO     [clipper_admin.py:220] [default-cluster] Application xgboost-app was successfully registered\n"
     ]
    }
   ],
   "source": [
    "# Register an xgboost app.\n",
    "clipper_conn.register_application('xgboost-app', 'integers', 'default_pred', 100000)"
   ]
  },
  {
   "cell_type": "code",
   "execution_count": 10,
   "metadata": {},
   "outputs": [
    {
     "name": "stderr",
     "output_type": "stream",
     "text": [
      "19-05-30:17:04:18 INFO     [deployer_utils.py:41] Saving function to /tmp/tmp0bixtp4wclipper\n",
      "19-05-30:17:04:18 INFO     [deployer_utils.py:51] Serialized and supplied predict function\n",
      "19-05-30:17:04:18 INFO     [python.py:192] Python closure saved\n",
      "19-05-30:17:04:18 INFO     [clipper_admin.py:513] [default-cluster] Building model Docker image with model data from /tmp/tmp0bixtp4wclipper\n",
      "19-05-30:17:04:18 INFO     [clipper_admin.py:518] [default-cluster] Step 1/2 : FROM dockerfile-xgboost\n",
      "19-05-30:17:04:18 INFO     [clipper_admin.py:518] [default-cluster]  ---> 767f3c26b3ba\n",
      "19-05-30:17:04:18 INFO     [clipper_admin.py:518] [default-cluster] Step 2/2 : COPY /tmp/tmp0bixtp4wclipper /model/\n",
      "19-05-30:17:04:18 INFO     [clipper_admin.py:518] [default-cluster]  ---> e92379429ad4\n",
      "19-05-30:17:04:18 INFO     [clipper_admin.py:518] [default-cluster] Successfully built e92379429ad4\n",
      "19-05-30:17:04:18 INFO     [clipper_admin.py:518] [default-cluster] Successfully tagged default-cluster-xgboost-model:1\n",
      "19-05-30:17:04:18 INFO     [clipper_admin.py:520] [default-cluster] Pushing model Docker image to default-cluster-xgboost-model:1\n",
      "19-05-30:17:04:20 INFO     [docker_container_manager.py:356] [default-cluster] Found 0 replicas for xgboost-model:1. Adding 1\n",
      "19-05-30:17:04:21 INFO     [clipper_admin.py:697] [default-cluster] Successfully registered model xgboost-model:1\n",
      "19-05-30:17:04:21 INFO     [clipper_admin.py:615] [default-cluster] Done deploying model xgboost-model:1.\n"
     ]
    }
   ],
   "source": [
    "# Deploy an xgboost model\n",
    "python_deployer.deploy_python_closure(clipper_conn, \n",
    "                                      name='xgboost-model', \n",
    "                                      version=1,\n",
    "                                      input_type=\"integers\", \n",
    "                                      func=predict,\n",
    "                                      pkgs_to_install=['xgboost'])"
   ]
  },
  {
   "cell_type": "code",
   "execution_count": 12,
   "metadata": {},
   "outputs": [
    {
     "name": "stderr",
     "output_type": "stream",
     "text": [
      "19-05-30:17:04:35 INFO     [clipper_admin.py:282] [default-cluster] Model xgboost-model is now linked to application xgboost-app\n"
     ]
    }
   ],
   "source": [
    "clipper_conn.link_model_to_app('xgboost-app', 'xgboost-model')"
   ]
  },
  {
   "cell_type": "code",
   "execution_count": 14,
   "metadata": {},
   "outputs": [],
   "source": [
    "# Get query address\n",
    "query_address = clipper_conn.get_query_addr()"
   ]
  },
  {
   "cell_type": "code",
   "execution_count": 15,
   "metadata": {},
   "outputs": [
    {
     "data": {
      "text/plain": [
       "{'query_id': 0, 'output': 0.3266071, 'default': False}"
      ]
     },
     "execution_count": 15,
     "metadata": {},
     "output_type": "execute_result"
    }
   ],
   "source": [
    "# Run a query\n",
    "import requests, json, numpy as np\n",
    "headers = {\"Content-type\": \"application/json\"}\n",
    "requests.post(\"http://\"+query_address+\"/xgboost-app/predict\", headers=headers, data=json.dumps({\n",
    "    \"input\": get_test_point()})).json()\n",
    "# The result is the same as in the local prediction!"
   ]
  },
  {
   "cell_type": "code",
   "execution_count": 17,
   "metadata": {},
   "outputs": [
    {
     "name": "stderr",
     "output_type": "stream",
     "text": [
      "19-05-30:17:06:11 INFO     [clipper_admin.py:1324] [default-cluster] Stopped all Clipper cluster and all model containers\n"
     ]
    }
   ],
   "source": [
    "# Stop everything\n",
    "clipper_conn.stop_all()"
   ]
  },
  {
   "cell_type": "code",
   "execution_count": null,
   "metadata": {},
   "outputs": [],
   "source": []
  }
 ],
 "metadata": {
  "kernelspec": {
   "display_name": "Python 3",
   "language": "python",
   "name": "python3"
  },
  "language_info": {
   "codemirror_mode": {
    "name": "ipython",
    "version": 3
   },
   "file_extension": ".py",
   "mimetype": "text/x-python",
   "name": "python",
   "nbconvert_exporter": "python",
   "pygments_lexer": "ipython3",
   "version": "3.6.8"
  }
 },
 "nbformat": 4,
 "nbformat_minor": 2
}

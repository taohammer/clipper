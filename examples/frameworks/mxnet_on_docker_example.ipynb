{
 "cells": [
  {
   "cell_type": "markdown",
   "metadata": {},
   "source": [
    "For a more detailed guide refer to `tensorflow` or `pytorch` example or to the documentation on https://clipper.ai."
   ]
  },
  {
   "cell_type": "code",
   "execution_count": 2,
   "metadata": {},
   "outputs": [],
   "source": [
    "import mxnet as mx\n",
    "import numpy as np"
   ]
  },
  {
   "cell_type": "code",
   "execution_count": 3,
   "metadata": {},
   "outputs": [
    {
     "data": {
      "text/plain": [
       "'1.4.1'"
      ]
     },
     "execution_count": 3,
     "metadata": {},
     "output_type": "execute_result"
    }
   ],
   "source": [
    "mx.__version__"
   ]
  },
  {
   "cell_type": "code",
   "execution_count": 4,
   "metadata": {},
   "outputs": [],
   "source": [
    "# random data generation\n",
    "def get_test_point():\n",
    "    return [np.random.randint(255)/255.0 for _ in range(785)]"
   ]
  },
  {
   "cell_type": "code",
   "execution_count": 5,
   "metadata": {},
   "outputs": [],
   "source": [
    "data = [np.random.rand(785), np.random.rand(785)]"
   ]
  },
  {
   "cell_type": "code",
   "execution_count": 6,
   "metadata": {},
   "outputs": [],
   "source": [
    "# MXNet model will read data from a file, so it is saved now\n",
    "np.savetxt(\"mxnet.data\", data, delimiter=\",\", fmt='%.3f')\n",
    "# To see saved data uncomment the lines below\n",
    "# data_load = np.loadtxt(\"mxnet.data\", delimiter=\",\")\n",
    "# print(data_load)"
   ]
  },
  {
   "cell_type": "code",
   "execution_count": 7,
   "metadata": {},
   "outputs": [],
   "source": [
    "def predict(model, xs):\n",
    "    data_iter = mx.io.NDArrayIter(xs)\n",
    "    preds = model.predict(data_iter)\n",
    "    preds = [preds[0]]\n",
    "    return [str(p) for p in preds]\n",
    "\n",
    "train_path = \"mxnet.data\"\n",
    "data_iter = mx.io.CSVIter(\n",
    "            data_csv=train_path, data_shape=(785, ), batch_size=1)\n",
    "\n",
    "# Create a MXNet model\n",
    "# Configure a two layer neural network\n",
    "data = mx.symbol.Variable('data')\n",
    "fc1 = mx.symbol.FullyConnected(data, name='fc1', num_hidden=128)\n",
    "act1 = mx.symbol.Activation(fc1, name='relu1', act_type='relu')\n",
    "fc2 = mx.symbol.FullyConnected(act1, name='fc2', num_hidden=10)\n",
    "softmax = mx.symbol.SoftmaxOutput(fc2, name='softmax')\n",
    "\n",
    "# Initialize the module and fit it\n",
    "mxnet_model = mx.mod.Module(softmax)\n",
    "mxnet_model.fit(data_iter, num_epoch=0)\n",
    "\n",
    "train_data_shape = data_iter.provide_data"
   ]
  },
  {
   "cell_type": "code",
   "execution_count": 8,
   "metadata": {},
   "outputs": [],
   "source": [
    "from clipper_admin import ClipperConnection, DockerContainerManager\n",
    "from clipper_admin.deployers.mxnet import deploy_mxnet_model"
   ]
  },
  {
   "cell_type": "code",
   "execution_count": 9,
   "metadata": {},
   "outputs": [],
   "source": [
    "clipper_conn = ClipperConnection(DockerContainerManager())"
   ]
  },
  {
   "cell_type": "code",
   "execution_count": 10,
   "metadata": {
    "scrolled": true
   },
   "outputs": [
    {
     "name": "stderr",
     "output_type": "stream",
     "text": [
      "19-05-31:10:26:33 INFO     [docker_container_manager.py:154] [default-cluster] Starting managed Redis instance in Docker\n",
      "19-05-31:10:26:36 INFO     [docker_container_manager.py:232] [default-cluster] Metric Configuration Saved at /tmp/tmp_13jf67b.yml\n",
      "19-05-31:10:26:37 INFO     [clipper_admin.py:143] [default-cluster] Clipper is running\n"
     ]
    }
   ],
   "source": [
    "clipper_conn.start_clipper()"
   ]
  },
  {
   "cell_type": "code",
   "execution_count": 11,
   "metadata": {},
   "outputs": [
    {
     "name": "stderr",
     "output_type": "stream",
     "text": [
      "19-05-31:10:26:39 INFO     [clipper_admin.py:156] [default-cluster] Successfully connected to Clipper cluster at localhost:1337\n"
     ]
    },
    {
     "data": {
      "text/plain": [
       "[]"
      ]
     },
     "execution_count": 11,
     "metadata": {},
     "output_type": "execute_result"
    }
   ],
   "source": [
    "clipper_conn.connect()\n",
    "clipper_conn.get_all_apps()"
   ]
  },
  {
   "cell_type": "code",
   "execution_count": 12,
   "metadata": {},
   "outputs": [
    {
     "data": {
      "text/plain": [
       "[]"
      ]
     },
     "execution_count": 12,
     "metadata": {},
     "output_type": "execute_result"
    }
   ],
   "source": [
    "clipper_conn.get_all_models()"
   ]
  },
  {
   "cell_type": "code",
   "execution_count": 13,
   "metadata": {
    "scrolled": true
   },
   "outputs": [
    {
     "name": "stderr",
     "output_type": "stream",
     "text": [
      "19-05-31:10:26:40 INFO     [clipper_admin.py:220] [default-cluster] Application mxnet-app was successfully registered\n"
     ]
    }
   ],
   "source": [
    "clipper_conn.register_application(name=\"mxnet-app\", input_type=\"doubles\", \n",
    "                                  default_output=\"-1.0\", slo_micros=100000)"
   ]
  },
  {
   "cell_type": "code",
   "execution_count": 14,
   "metadata": {
    "scrolled": true
   },
   "outputs": [
    {
     "name": "stderr",
     "output_type": "stream",
     "text": [
      "19-05-31:10:26:40 INFO     [deployer_utils.py:41] Saving function to /tmp/tmpnrclub9pclipper\n",
      "19-05-31:10:26:40 INFO     [deployer_utils.py:51] Serialized and supplied predict function\n",
      "19-05-31:10:26:40 INFO     [module.py:180] Saved checkpoint to \"/tmp/tmpnrclub9pclipper/mxnet_model-0000.params\"\n",
      "19-05-31:10:26:40 INFO     [mxnet.py:250] MXNet model saved\n",
      "19-05-31:10:26:40 INFO     [mxnet.py:264] Using Python 3.6 base image\n",
      "19-05-31:10:26:40 INFO     [clipper_admin.py:513] [default-cluster] Building model Docker image with model data from /tmp/tmpnrclub9pclipper\n",
      "19-05-31:10:26:40 INFO     [clipper_admin.py:518] [default-cluster] Step 1/2 : FROM clipper/mxnet36-container:develop\n",
      "19-05-31:10:26:40 INFO     [clipper_admin.py:518] [default-cluster]  ---> c34e78406479\n",
      "19-05-31:10:26:40 INFO     [clipper_admin.py:518] [default-cluster] Step 2/2 : COPY /tmp/tmpnrclub9pclipper /model/\n",
      "19-05-31:10:26:40 INFO     [clipper_admin.py:518] [default-cluster]  ---> 19043a518914\n",
      "19-05-31:10:26:40 INFO     [clipper_admin.py:518] [default-cluster] Successfully built 19043a518914\n",
      "19-05-31:10:26:40 INFO     [clipper_admin.py:518] [default-cluster] Successfully tagged default-cluster-mxnet-mod:1\n",
      "19-05-31:10:26:40 INFO     [clipper_admin.py:520] [default-cluster] Pushing model Docker image to default-cluster-mxnet-mod:1\n",
      "19-05-31:10:26:42 INFO     [docker_container_manager.py:356] [default-cluster] Found 0 replicas for mxnet-mod:1. Adding 1\n",
      "19-05-31:10:26:43 INFO     [clipper_admin.py:697] [default-cluster] Successfully registered model mxnet-mod:1\n",
      "19-05-31:10:26:43 INFO     [clipper_admin.py:615] [default-cluster] Done deploying model mxnet-mod:1.\n"
     ]
    }
   ],
   "source": [
    "deploy_mxnet_model(\n",
    "    clipper_conn,\n",
    "    name=\"mxnet-mod\",\n",
    "    version = 1,\n",
    "    input_type=\"doubles\",\n",
    "    func=predict,\n",
    "    mxnet_model=mxnet_model,\n",
    "    mxnet_data_shapes=train_data_shape,\n",
    "    batch_size=1)"
   ]
  },
  {
   "cell_type": "code",
   "execution_count": 15,
   "metadata": {},
   "outputs": [
    {
     "name": "stderr",
     "output_type": "stream",
     "text": [
      "19-05-31:10:26:43 INFO     [clipper_admin.py:282] [default-cluster] Model mxnet-mod is now linked to application mxnet-app\n"
     ]
    }
   ],
   "source": [
    "clipper_conn.link_model_to_app(\n",
    "    app_name=\"mxnet-app\",\n",
    "    model_name=\"mxnet-mod\")"
   ]
  },
  {
   "cell_type": "code",
   "execution_count": 16,
   "metadata": {},
   "outputs": [
    {
     "data": {
      "text/plain": [
       "['mxnet-app']"
      ]
     },
     "execution_count": 16,
     "metadata": {},
     "output_type": "execute_result"
    }
   ],
   "source": [
    "clipper_conn.get_all_apps()"
   ]
  },
  {
   "cell_type": "code",
   "execution_count": 17,
   "metadata": {},
   "outputs": [],
   "source": [
    "# Get query address\n",
    "query_address = clipper_conn.get_query_addr()"
   ]
  },
  {
   "cell_type": "code",
   "execution_count": 18,
   "metadata": {},
   "outputs": [
    {
     "data": {
      "text/plain": [
       "{'query_id': 0,\n",
       " 'output': '\\n[0.10011463 0.10053553 0.10043429 0.10027345 0.09964842 0.09943663\\n 0.09980932 0.09959482 0.09990343 0.10024941]\\n<NDArray 10 @cpu(0)>',\n",
       " 'default': False}"
      ]
     },
     "execution_count": 18,
     "metadata": {},
     "output_type": "execute_result"
    }
   ],
   "source": [
    "# Run a query\n",
    "import requests, json, numpy as np\n",
    "headers = {\"Content-type\": \"application/json\"}\n",
    "requests.post(\"http://\"+query_address+\"/mxnet-app/predict\", headers=headers, \n",
    "              data=json.dumps({\"input\": get_test_point()})).json()"
   ]
  },
  {
   "cell_type": "code",
   "execution_count": 19,
   "metadata": {},
   "outputs": [
    {
     "name": "stderr",
     "output_type": "stream",
     "text": [
      "19-05-31:10:26:51 INFO     [clipper_admin.py:323] Model mxnet-mod is now removed to application mxnet-app\n"
     ]
    }
   ],
   "source": [
    "clipper_conn.unlink_model_from_app(model_name=\"mxnet-mod\", app_name=\"mxnet-app\")"
   ]
  },
  {
   "cell_type": "code",
   "execution_count": 20,
   "metadata": {},
   "outputs": [
    {
     "name": "stderr",
     "output_type": "stream",
     "text": [
      "19-05-31:10:27:01 INFO     [clipper_admin.py:1238] [default-cluster] Stopped all containers for these models and versions:\n",
      "{'mxnet-mod': ['1']}\n"
     ]
    }
   ],
   "source": [
    "clipper_conn.stop_models('mxnet-mod')"
   ]
  },
  {
   "cell_type": "code",
   "execution_count": 21,
   "metadata": {},
   "outputs": [
    {
     "name": "stderr",
     "output_type": "stream",
     "text": [
      "19-05-31:10:27:01 INFO     [clipper_admin.py:239] [default-cluster] Application mxnet-app was successfully deleted\n"
     ]
    }
   ],
   "source": [
    "clipper_conn.delete_application('mxnet-app')"
   ]
  },
  {
   "cell_type": "code",
   "execution_count": 22,
   "metadata": {},
   "outputs": [
    {
     "name": "stderr",
     "output_type": "stream",
     "text": [
      "19-05-31:10:27:33 INFO     [clipper_admin.py:1324] [default-cluster] Stopped all Clipper cluster and all model containers\n"
     ]
    }
   ],
   "source": [
    "clipper_conn.stop_all()"
   ]
  },
  {
   "cell_type": "code",
   "execution_count": null,
   "metadata": {},
   "outputs": [],
   "source": []
  }
 ],
 "metadata": {
  "kernelspec": {
   "display_name": "Python 3",
   "language": "python",
   "name": "python3"
  },
  "language_info": {
   "codemirror_mode": {
    "name": "ipython",
    "version": 3
   },
   "file_extension": ".py",
   "mimetype": "text/x-python",
   "name": "python",
   "nbconvert_exporter": "python",
   "pygments_lexer": "ipython3",
   "version": "3.6.8"
  }
 },
 "nbformat": 4,
 "nbformat_minor": 2
}
